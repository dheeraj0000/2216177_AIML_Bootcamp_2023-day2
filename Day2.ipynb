{
  "nbformat": 4,
  "nbformat_minor": 0,
  "metadata": {
    "colab": {
      "provenance": [],
      "toc_visible": true,
      "authorship_tag": "ABX9TyPyfTN34sYHDiME4kkaMzlG",
      "include_colab_link": true
    },
    "kernelspec": {
      "name": "python3",
      "display_name": "Python 3"
    },
    "language_info": {
      "name": "python"
    }
  },
  "cells": [
    {
      "cell_type": "markdown",
      "metadata": {
        "id": "view-in-github",
        "colab_type": "text"
      },
      "source": [
        "<a href=\"https://colab.research.google.com/github/dheeraj0000/2216177_AIML_Bootcamp_2023-day2/blob/main/Day2.ipynb\" target=\"_parent\"><img src=\"https://colab.research.google.com/assets/colab-badge.svg\" alt=\"Open In Colab\"/></a>"
      ]
    },
    {
      "cell_type": "code",
      "execution_count": null,
      "metadata": {
        "colab": {
          "base_uri": "https://localhost:8080/"
        },
        "id": "j4sO1YX9_JPm",
        "outputId": "33798e7e-aecc-432d-d372-7bd20ecbd356"
      },
      "outputs": [
        {
          "output_type": "stream",
          "name": "stdout",
          "text": [
            "5\n",
            "1\n",
            "6\n",
            "1.5\n",
            "1\n",
            "9\n",
            "1\n"
          ]
        }
      ],
      "source": [
        "a=3\n",
        "b=2\n",
        "print(a+b)\n",
        "print(a-b)\n",
        "print(a*b)\n",
        "print(a/b)\n",
        "print(a%b)\n",
        "print(a**b)\n",
        "print(a//b)"
      ]
    },
    {
      "cell_type": "code",
      "source": [
        "#comparsion operateor\n",
        "a>=b\n",
        "a==b\n",
        "a<=b\n",
        "a<<b\n",
        "a>>b\n",
        "a!=b"
      ],
      "metadata": {
        "colab": {
          "base_uri": "https://localhost:8080/"
        },
        "id": "9OrEnr8kAvu4",
        "outputId": "449e0e69-f064-4715-95c3-f94c7f183279"
      },
      "execution_count": null,
      "outputs": [
        {
          "output_type": "execute_result",
          "data": {
            "text/plain": [
              "True"
            ]
          },
          "metadata": {},
          "execution_count": 2
        }
      ]
    },
    {
      "cell_type": "code",
      "source": [
        "#assignment operator\n",
        "a=10\n",
        "b=5\n",
        "c=a+b\n",
        "c-=a"
      ],
      "metadata": {
        "id": "8aLcUpnTBRKC"
      },
      "execution_count": null,
      "outputs": []
    },
    {
      "cell_type": "code",
      "source": [
        "#logical operator\n",
        "x=True\n",
        "y=False\n",
        "print('x and y is:',x and y)\n",
        "print('x or y is:',x or y)\n",
        "print('x not y is:',not y)"
      ],
      "metadata": {
        "colab": {
          "base_uri": "https://localhost:8080/"
        },
        "id": "5CrA5yvlBpk7",
        "outputId": "85e296f7-beb5-423d-c3e6-d3bc94a9c9eb"
      },
      "execution_count": null,
      "outputs": [
        {
          "output_type": "stream",
          "name": "stdout",
          "text": [
            "x and y is: False\n",
            "x or y is: True\n",
            "x not y is: True\n"
          ]
        }
      ]
    },
    {
      "cell_type": "code",
      "source": [
        "#Bitwise operator\n",
        "a=13\n",
        "b=14\n",
        "print(a&b)\n",
        "print(a|b)\n",
        "print(~a)\n",
        "print(a^b)\n",
        "print(a>>2)\n",
        "print(a<<2)"
      ],
      "metadata": {
        "colab": {
          "base_uri": "https://localhost:8080/"
        },
        "id": "ics-l0YKCchs",
        "outputId": "d57a5730-19f3-49f9-b099-e254a4cdc6f6"
      },
      "execution_count": null,
      "outputs": [
        {
          "output_type": "stream",
          "name": "stdout",
          "text": [
            "12\n",
            "15\n",
            "-14\n",
            "3\n",
            "3\n",
            "52\n"
          ]
        }
      ]
    },
    {
      "cell_type": "code",
      "source": [
        "#membership operator\n",
        "x='hello world'\n",
        "print('w' in x)"
      ],
      "metadata": {
        "colab": {
          "base_uri": "https://localhost:8080/"
        },
        "id": "aVvRzLKYDZVt",
        "outputId": "2f5c0b19-2b46-4747-a393-1cdb89a795a4"
      },
      "execution_count": null,
      "outputs": [
        {
          "output_type": "stream",
          "name": "stdout",
          "text": [
            "True\n"
          ]
        }
      ]
    },
    {
      "cell_type": "code",
      "source": [
        "#identity operator\n",
        "x1=5\n",
        "y1=5\n",
        "x2='hello'\n",
        "y2=\"hello\"\n",
        "x3=[1,2,3]\n",
        "y3=[1,2,3]\n",
        "print(x1 is not y1)\n",
        "print(x2 is  y2)\n",
        "print(x3 is y3)"
      ],
      "metadata": {
        "colab": {
          "base_uri": "https://localhost:8080/"
        },
        "id": "pO6W4bhXFJF_",
        "outputId": "41d58d45-56a2-4ff1-e1d8-d1a4628f765e"
      },
      "execution_count": null,
      "outputs": [
        {
          "output_type": "stream",
          "name": "stdout",
          "text": [
            "False\n",
            "True\n",
            "False\n"
          ]
        }
      ]
    },
    {
      "cell_type": "code",
      "source": [
        "a=int(input(\"enter the number\"))\n",
        "print(a)\n",
        "b=input(\"enter the string\")\n",
        "print(b)"
      ],
      "metadata": {
        "colab": {
          "base_uri": "https://localhost:8080/"
        },
        "id": "mI8YsXjjFlRa",
        "outputId": "363e43ac-dca5-4f9c-e721-dd129b050300"
      },
      "execution_count": null,
      "outputs": [
        {
          "output_type": "stream",
          "name": "stdout",
          "text": [
            "enter the number2\n",
            "2\n",
            "enter the stringhello\n",
            "hello\n"
          ]
        }
      ]
    },
    {
      "cell_type": "code",
      "source": [
        "#string\n",
        "str=\"dheeraj\"\n",
        "#indexing\n",
        "print(str[0])\n",
        "print(str[-1])\n",
        "print(str[0:5])\n",
        "print(str[0:5:2])\n",
        "#reverse a string\n",
        "print(str[::-1])\n",
        "#string methods\n",
        "my_str=\"I am teaching python\"\n",
        "print(my_str.upper())\n",
        "print(my_str.lower())\n",
        "print(my_str.swapcase())\n",
        "print(my_str.lstrip())\n",
        "#string operations\n",
        "str1=\"hello\"\n",
        "str2=\"world\"\n",
        "print(str1+str2)\n",
        "print(str1+str1)"
      ],
      "metadata": {
        "colab": {
          "base_uri": "https://localhost:8080/"
        },
        "id": "-7y3EEX6Gawt",
        "outputId": "967edc8d-27e6-4708-8dd1-6c02252dc41c"
      },
      "execution_count": null,
      "outputs": [
        {
          "output_type": "stream",
          "name": "stdout",
          "text": [
            "d\n",
            "j\n",
            "dheer\n",
            "der\n",
            "jareehd\n",
            "I AM TEACHING PYTHON\n",
            "i am teaching python\n",
            "i AM TEACHING PYTHON\n",
            "I am teaching python\n",
            "helloworld\n",
            "hellohello\n"
          ]
        }
      ]
    },
    {
      "cell_type": "code",
      "source": [
        "dir(str)"
      ],
      "metadata": {
        "colab": {
          "base_uri": "https://localhost:8080/"
        },
        "id": "pG0F62WgHiW9",
        "outputId": "044d3fb4-18e9-429f-adf0-7fa054fabc49"
      },
      "execution_count": null,
      "outputs": [
        {
          "output_type": "execute_result",
          "data": {
            "text/plain": [
              "['__add__',\n",
              " '__class__',\n",
              " '__contains__',\n",
              " '__delattr__',\n",
              " '__dir__',\n",
              " '__doc__',\n",
              " '__eq__',\n",
              " '__format__',\n",
              " '__ge__',\n",
              " '__getattribute__',\n",
              " '__getitem__',\n",
              " '__getnewargs__',\n",
              " '__gt__',\n",
              " '__hash__',\n",
              " '__init__',\n",
              " '__init_subclass__',\n",
              " '__iter__',\n",
              " '__le__',\n",
              " '__len__',\n",
              " '__lt__',\n",
              " '__mod__',\n",
              " '__mul__',\n",
              " '__ne__',\n",
              " '__new__',\n",
              " '__reduce__',\n",
              " '__reduce_ex__',\n",
              " '__repr__',\n",
              " '__rmod__',\n",
              " '__rmul__',\n",
              " '__setattr__',\n",
              " '__sizeof__',\n",
              " '__str__',\n",
              " '__subclasshook__',\n",
              " 'capitalize',\n",
              " 'casefold',\n",
              " 'center',\n",
              " 'count',\n",
              " 'encode',\n",
              " 'endswith',\n",
              " 'expandtabs',\n",
              " 'find',\n",
              " 'format',\n",
              " 'format_map',\n",
              " 'index',\n",
              " 'isalnum',\n",
              " 'isalpha',\n",
              " 'isascii',\n",
              " 'isdecimal',\n",
              " 'isdigit',\n",
              " 'isidentifier',\n",
              " 'islower',\n",
              " 'isnumeric',\n",
              " 'isprintable',\n",
              " 'isspace',\n",
              " 'istitle',\n",
              " 'isupper',\n",
              " 'join',\n",
              " 'ljust',\n",
              " 'lower',\n",
              " 'lstrip',\n",
              " 'maketrans',\n",
              " 'partition',\n",
              " 'replace',\n",
              " 'rfind',\n",
              " 'rindex',\n",
              " 'rjust',\n",
              " 'rpartition',\n",
              " 'rsplit',\n",
              " 'rstrip',\n",
              " 'split',\n",
              " 'splitlines',\n",
              " 'startswith',\n",
              " 'strip',\n",
              " 'swapcase',\n",
              " 'title',\n",
              " 'translate',\n",
              " 'upper',\n",
              " 'zfill']"
            ]
          },
          "metadata": {},
          "execution_count": 16
        }
      ]
    },
    {
      "cell_type": "code",
      "source": [
        "#string formats\n",
        "name=\"dheeraj\"\n",
        "Language=\"python\"\n",
        "year=2023\n",
        "print(name,\"is teaching\",Language,\"programming in\",year)\n",
        "#format\n",
        "print(\"{} is teaching {} programming in {}\".format(name,Language,year))\n",
        "#placeholder\n",
        "print(\"%s is teaching %s programming in %d\"%(name,Language,year))\n",
        "#rawstring 'f'\n",
        "print(f\"{name} is teaching {Language} programming in {year}\")"
      ],
      "metadata": {
        "colab": {
          "base_uri": "https://localhost:8080/"
        },
        "id": "uwCAtxAOJTzi",
        "outputId": "5148fcdb-aea0-408f-813c-00d63be142dd"
      },
      "execution_count": null,
      "outputs": [
        {
          "output_type": "stream",
          "name": "stdout",
          "text": [
            "dheeraj is teaching python programming in 2023\n",
            "dheeraj is teaching python programming in 2023\n",
            "dheeraj is teaching python programming in 2023\n",
            "dheeraj is teaching python programming in 2023\n"
          ]
        }
      ]
    },
    {
      "cell_type": "code",
      "source": [
        "#Lists\n",
        "my_list=[1,2,3,4]\n",
        "my_list1=[1,'hello','3.0']\n",
        "my_list2=['apple','banana','cherry',]\n",
        "\n",
        "#indexing\n",
        "print(my_list[2])\n",
        "print(my_list1[-1])\n",
        "print(my_list[:3])\n",
        "#nested list\n",
        "N_list=[\"dargonfruit\",\"hi\",my_list,my_list[1]]\n",
        "#list methods\n",
        "my_list.append(5)\n",
        "print(my_list)\n",
        "l1=[3,6,9,12,34,4,5,6,9]\n",
        "print(l1.count(4))\n",
        "print(len(l1))\n",
        "print(l1[::-1])\n",
        "l1.reverse()\n",
        "print(l1)\n",
        "l1.sort()\n",
        "print(l1)"
      ],
      "metadata": {
        "colab": {
          "base_uri": "https://localhost:8080/"
        },
        "id": "kBleQDsUKXoX",
        "outputId": "5d4a0424-da32-4ed1-9547-bb906f6838fa"
      },
      "execution_count": null,
      "outputs": [
        {
          "output_type": "stream",
          "name": "stdout",
          "text": [
            "3\n",
            "3.0\n",
            "[1, 2, 3]\n",
            "[1, 2, 3, 4, 5]\n",
            "1\n",
            "9\n",
            "[9, 6, 5, 4, 34, 12, 9, 6, 3]\n",
            "[9, 6, 5, 4, 34, 12, 9, 6, 3]\n",
            "[3, 4, 5, 6, 6, 9, 9, 12, 34]\n"
          ]
        }
      ]
    },
    {
      "cell_type": "code",
      "source": [],
      "metadata": {
        "id": "PwzKaaqWOO2w"
      },
      "execution_count": null,
      "outputs": []
    }
  ]
}